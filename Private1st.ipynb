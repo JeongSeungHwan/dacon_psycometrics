{
 "cells": [
  {
   "cell_type": "code",
   "execution_count": 33,
   "id": "f36357ca-8cbd-41ce-83cf-0adcc09d8542",
   "metadata": {},
   "outputs": [],
   "source": [
    "import pandas as pd\n",
    "import seaborn as sns\n",
    "import matplotlib.pyplot as plt\n",
    "%matplotlib inline\n",
    "\n",
    "from string import ascii_lowercase\n",
    "from itertools import combinations\n",
    "\n",
    "import lightgbm as lgb\n",
    "from sklearn.ensemble import RandomForestClassifier\n",
    "from lightgbm import LGBMClassifier\n",
    "from sklearn.ensemble import GradientBoostingClassifier\n",
    "\n",
    "from sklearn.ensemble import VotingClassifier\n",
    "from sklearn.model_selection import KFold\n",
    "from sklearn.model_selection import cross_val_score"
   ]
  },
  {
   "cell_type": "code",
   "execution_count": 97,
   "id": "2f34e28c-1b4c-4ecc-8beb-b1b8de3817ab",
   "metadata": {},
   "outputs": [],
   "source": [
    "train = pd.read_csv('data/train.csv', index_col=0)\n",
    "test = pd.read_csv('data/test_x.csv', index_col=0)\n",
    "submission = pd.read_csv('data/sample_submission.csv', index_col=0)"
   ]
  },
  {
   "cell_type": "code",
   "execution_count": 58,
   "id": "b8962b4a-016d-4e28-993d-9bde12049e12",
   "metadata": {},
   "outputs": [
    {
     "data": {
      "text/plain": [
       "Index(['QaA', 'QaE', 'QbA', 'QbE', 'QcA', 'QcE', 'QdA', 'QdE', 'QeA', 'QeE',\n",
       "       'QfA', 'QfE', 'QgA', 'QgE', 'QhA', 'QhE', 'QiA', 'QiE', 'QjA', 'QjE',\n",
       "       'QkA', 'QkE', 'QlA', 'QlE', 'QmA', 'QmE', 'QnA', 'QnE', 'QoA', 'QoE',\n",
       "       'QpA', 'QpE', 'QqA', 'QqE', 'QrA', 'QrE', 'QsA', 'QsE', 'QtA', 'QtE',\n",
       "       'age_group', 'education', 'engnat', 'familysize', 'gender', 'hand',\n",
       "       'married', 'race', 'religion', 'tp01', 'tp02', 'tp03', 'tp04', 'tp05',\n",
       "       'tp06', 'tp07', 'tp08', 'tp09', 'tp10', 'urban', 'voted', 'wf_01',\n",
       "       'wf_02', 'wf_03', 'wr_01', 'wr_02', 'wr_03', 'wr_04', 'wr_05', 'wr_06',\n",
       "       'wr_07', 'wr_08', 'wr_09', 'wr_10', 'wr_11', 'wr_12', 'wr_13'],\n",
       "      dtype='object')"
      ]
     },
     "execution_count": 58,
     "metadata": {},
     "output_type": "execute_result"
    }
   ],
   "source": [
    "train.columns"
   ]
  },
  {
   "cell_type": "code",
   "execution_count": 59,
   "id": "426f2d96-a4c2-47bb-a1b9-36fad15e4ffe",
   "metadata": {},
   "outputs": [
    {
     "data": {
      "text/html": [
       "<div>\n",
       "<style scoped>\n",
       "    .dataframe tbody tr th:only-of-type {\n",
       "        vertical-align: middle;\n",
       "    }\n",
       "\n",
       "    .dataframe tbody tr th {\n",
       "        vertical-align: top;\n",
       "    }\n",
       "\n",
       "    .dataframe thead th {\n",
       "        text-align: right;\n",
       "    }\n",
       "</style>\n",
       "<table border=\"1\" class=\"dataframe\">\n",
       "  <thead>\n",
       "    <tr style=\"text-align: right;\">\n",
       "      <th></th>\n",
       "      <th>QaA</th>\n",
       "      <th>QaE</th>\n",
       "      <th>QbA</th>\n",
       "      <th>QbE</th>\n",
       "      <th>QcA</th>\n",
       "      <th>QcE</th>\n",
       "      <th>QdA</th>\n",
       "      <th>QdE</th>\n",
       "      <th>QeA</th>\n",
       "      <th>QeE</th>\n",
       "      <th>...</th>\n",
       "      <th>wr_04</th>\n",
       "      <th>wr_05</th>\n",
       "      <th>wr_06</th>\n",
       "      <th>wr_07</th>\n",
       "      <th>wr_08</th>\n",
       "      <th>wr_09</th>\n",
       "      <th>wr_10</th>\n",
       "      <th>wr_11</th>\n",
       "      <th>wr_12</th>\n",
       "      <th>wr_13</th>\n",
       "    </tr>\n",
       "    <tr>\n",
       "      <th>index</th>\n",
       "      <th></th>\n",
       "      <th></th>\n",
       "      <th></th>\n",
       "      <th></th>\n",
       "      <th></th>\n",
       "      <th></th>\n",
       "      <th></th>\n",
       "      <th></th>\n",
       "      <th></th>\n",
       "      <th></th>\n",
       "      <th></th>\n",
       "      <th></th>\n",
       "      <th></th>\n",
       "      <th></th>\n",
       "      <th></th>\n",
       "      <th></th>\n",
       "      <th></th>\n",
       "      <th></th>\n",
       "      <th></th>\n",
       "      <th></th>\n",
       "      <th></th>\n",
       "    </tr>\n",
       "  </thead>\n",
       "  <tbody>\n",
       "    <tr>\n",
       "      <th>0</th>\n",
       "      <td>3.0</td>\n",
       "      <td>363</td>\n",
       "      <td>4.0</td>\n",
       "      <td>1370</td>\n",
       "      <td>5.0</td>\n",
       "      <td>997</td>\n",
       "      <td>1.0</td>\n",
       "      <td>1024</td>\n",
       "      <td>2.0</td>\n",
       "      <td>1577</td>\n",
       "      <td>...</td>\n",
       "      <td>0</td>\n",
       "      <td>1</td>\n",
       "      <td>0</td>\n",
       "      <td>1</td>\n",
       "      <td>1</td>\n",
       "      <td>0</td>\n",
       "      <td>1</td>\n",
       "      <td>0</td>\n",
       "      <td>1</td>\n",
       "      <td>1</td>\n",
       "    </tr>\n",
       "    <tr>\n",
       "      <th>1</th>\n",
       "      <td>5.0</td>\n",
       "      <td>647</td>\n",
       "      <td>5.0</td>\n",
       "      <td>1313</td>\n",
       "      <td>3.0</td>\n",
       "      <td>3387</td>\n",
       "      <td>5.0</td>\n",
       "      <td>2969</td>\n",
       "      <td>1.0</td>\n",
       "      <td>4320</td>\n",
       "      <td>...</td>\n",
       "      <td>1</td>\n",
       "      <td>1</td>\n",
       "      <td>0</td>\n",
       "      <td>1</td>\n",
       "      <td>1</td>\n",
       "      <td>0</td>\n",
       "      <td>1</td>\n",
       "      <td>0</td>\n",
       "      <td>1</td>\n",
       "      <td>1</td>\n",
       "    </tr>\n",
       "    <tr>\n",
       "      <th>2</th>\n",
       "      <td>4.0</td>\n",
       "      <td>1623</td>\n",
       "      <td>1.0</td>\n",
       "      <td>1480</td>\n",
       "      <td>1.0</td>\n",
       "      <td>1021</td>\n",
       "      <td>4.0</td>\n",
       "      <td>3374</td>\n",
       "      <td>5.0</td>\n",
       "      <td>1333</td>\n",
       "      <td>...</td>\n",
       "      <td>1</td>\n",
       "      <td>1</td>\n",
       "      <td>0</td>\n",
       "      <td>1</td>\n",
       "      <td>1</td>\n",
       "      <td>1</td>\n",
       "      <td>1</td>\n",
       "      <td>0</td>\n",
       "      <td>1</td>\n",
       "      <td>1</td>\n",
       "    </tr>\n",
       "    <tr>\n",
       "      <th>3</th>\n",
       "      <td>3.0</td>\n",
       "      <td>504</td>\n",
       "      <td>3.0</td>\n",
       "      <td>2311</td>\n",
       "      <td>4.0</td>\n",
       "      <td>992</td>\n",
       "      <td>3.0</td>\n",
       "      <td>3245</td>\n",
       "      <td>1.0</td>\n",
       "      <td>357</td>\n",
       "      <td>...</td>\n",
       "      <td>0</td>\n",
       "      <td>0</td>\n",
       "      <td>0</td>\n",
       "      <td>0</td>\n",
       "      <td>1</td>\n",
       "      <td>0</td>\n",
       "      <td>1</td>\n",
       "      <td>0</td>\n",
       "      <td>1</td>\n",
       "      <td>1</td>\n",
       "    </tr>\n",
       "    <tr>\n",
       "      <th>4</th>\n",
       "      <td>1.0</td>\n",
       "      <td>927</td>\n",
       "      <td>1.0</td>\n",
       "      <td>707</td>\n",
       "      <td>5.0</td>\n",
       "      <td>556</td>\n",
       "      <td>2.0</td>\n",
       "      <td>1062</td>\n",
       "      <td>1.0</td>\n",
       "      <td>1014</td>\n",
       "      <td>...</td>\n",
       "      <td>1</td>\n",
       "      <td>1</td>\n",
       "      <td>1</td>\n",
       "      <td>1</td>\n",
       "      <td>1</td>\n",
       "      <td>0</td>\n",
       "      <td>1</td>\n",
       "      <td>1</td>\n",
       "      <td>1</td>\n",
       "      <td>1</td>\n",
       "    </tr>\n",
       "  </tbody>\n",
       "</table>\n",
       "<p>5 rows × 77 columns</p>\n",
       "</div>"
      ],
      "text/plain": [
       "       QaA   QaE  QbA   QbE  QcA   QcE  QdA   QdE  QeA   QeE  ...  wr_04  \\\n",
       "index                                                         ...          \n",
       "0      3.0   363  4.0  1370  5.0   997  1.0  1024  2.0  1577  ...      0   \n",
       "1      5.0   647  5.0  1313  3.0  3387  5.0  2969  1.0  4320  ...      1   \n",
       "2      4.0  1623  1.0  1480  1.0  1021  4.0  3374  5.0  1333  ...      1   \n",
       "3      3.0   504  3.0  2311  4.0   992  3.0  3245  1.0   357  ...      0   \n",
       "4      1.0   927  1.0   707  5.0   556  2.0  1062  1.0  1014  ...      1   \n",
       "\n",
       "       wr_05  wr_06  wr_07  wr_08  wr_09  wr_10  wr_11  wr_12  wr_13  \n",
       "index                                                                 \n",
       "0          1      0      1      1      0      1      0      1      1  \n",
       "1          1      0      1      1      0      1      0      1      1  \n",
       "2          1      0      1      1      1      1      0      1      1  \n",
       "3          0      0      0      1      0      1      0      1      1  \n",
       "4          1      1      1      1      0      1      1      1      1  \n",
       "\n",
       "[5 rows x 77 columns]"
      ]
     },
     "execution_count": 59,
     "metadata": {},
     "output_type": "execute_result"
    }
   ],
   "source": [
    "train.head()"
   ]
  },
  {
   "cell_type": "code",
   "execution_count": 60,
   "id": "f79ebe5d-20b3-41f9-a277-fb0878c5e9e5",
   "metadata": {},
   "outputs": [
    {
     "name": "stdout",
     "output_type": "stream",
     "text": [
      "<class 'pandas.core.frame.DataFrame'>\n",
      "Int64Index: 45532 entries, 0 to 45531\n",
      "Data columns (total 77 columns):\n",
      " #   Column      Non-Null Count  Dtype  \n",
      "---  ------      --------------  -----  \n",
      " 0   QaA         45532 non-null  float64\n",
      " 1   QaE         45532 non-null  int64  \n",
      " 2   QbA         45532 non-null  float64\n",
      " 3   QbE         45532 non-null  int64  \n",
      " 4   QcA         45532 non-null  float64\n",
      " 5   QcE         45532 non-null  int64  \n",
      " 6   QdA         45532 non-null  float64\n",
      " 7   QdE         45532 non-null  int64  \n",
      " 8   QeA         45532 non-null  float64\n",
      " 9   QeE         45532 non-null  int64  \n",
      " 10  QfA         45532 non-null  float64\n",
      " 11  QfE         45532 non-null  int64  \n",
      " 12  QgA         45532 non-null  float64\n",
      " 13  QgE         45532 non-null  int64  \n",
      " 14  QhA         45532 non-null  float64\n",
      " 15  QhE         45532 non-null  int64  \n",
      " 16  QiA         45532 non-null  float64\n",
      " 17  QiE         45532 non-null  int64  \n",
      " 18  QjA         45532 non-null  float64\n",
      " 19  QjE         45532 non-null  int64  \n",
      " 20  QkA         45532 non-null  float64\n",
      " 21  QkE         45532 non-null  int64  \n",
      " 22  QlA         45532 non-null  float64\n",
      " 23  QlE         45532 non-null  int64  \n",
      " 24  QmA         45532 non-null  float64\n",
      " 25  QmE         45532 non-null  int64  \n",
      " 26  QnA         45532 non-null  float64\n",
      " 27  QnE         45532 non-null  int64  \n",
      " 28  QoA         45532 non-null  float64\n",
      " 29  QoE         45532 non-null  int64  \n",
      " 30  QpA         45532 non-null  float64\n",
      " 31  QpE         45532 non-null  int64  \n",
      " 32  QqA         45532 non-null  float64\n",
      " 33  QqE         45532 non-null  int64  \n",
      " 34  QrA         45532 non-null  float64\n",
      " 35  QrE         45532 non-null  int64  \n",
      " 36  QsA         45532 non-null  float64\n",
      " 37  QsE         45532 non-null  int64  \n",
      " 38  QtA         45532 non-null  float64\n",
      " 39  QtE         45532 non-null  int64  \n",
      " 40  age_group   45532 non-null  object \n",
      " 41  education   45532 non-null  int64  \n",
      " 42  engnat      45532 non-null  int64  \n",
      " 43  familysize  45532 non-null  int64  \n",
      " 44  gender      45532 non-null  object \n",
      " 45  hand        45532 non-null  int64  \n",
      " 46  married     45532 non-null  int64  \n",
      " 47  race        45532 non-null  object \n",
      " 48  religion    45532 non-null  object \n",
      " 49  tp01        45532 non-null  int64  \n",
      " 50  tp02        45532 non-null  int64  \n",
      " 51  tp03        45532 non-null  int64  \n",
      " 52  tp04        45532 non-null  int64  \n",
      " 53  tp05        45532 non-null  int64  \n",
      " 54  tp06        45532 non-null  int64  \n",
      " 55  tp07        45532 non-null  int64  \n",
      " 56  tp08        45532 non-null  int64  \n",
      " 57  tp09        45532 non-null  int64  \n",
      " 58  tp10        45532 non-null  int64  \n",
      " 59  urban       45532 non-null  int64  \n",
      " 60  voted       45532 non-null  int64  \n",
      " 61  wf_01       45532 non-null  int64  \n",
      " 62  wf_02       45532 non-null  int64  \n",
      " 63  wf_03       45532 non-null  int64  \n",
      " 64  wr_01       45532 non-null  int64  \n",
      " 65  wr_02       45532 non-null  int64  \n",
      " 66  wr_03       45532 non-null  int64  \n",
      " 67  wr_04       45532 non-null  int64  \n",
      " 68  wr_05       45532 non-null  int64  \n",
      " 69  wr_06       45532 non-null  int64  \n",
      " 70  wr_07       45532 non-null  int64  \n",
      " 71  wr_08       45532 non-null  int64  \n",
      " 72  wr_09       45532 non-null  int64  \n",
      " 73  wr_10       45532 non-null  int64  \n",
      " 74  wr_11       45532 non-null  int64  \n",
      " 75  wr_12       45532 non-null  int64  \n",
      " 76  wr_13       45532 non-null  int64  \n",
      "dtypes: float64(20), int64(53), object(4)\n",
      "memory usage: 27.1+ MB\n"
     ]
    }
   ],
   "source": [
    "train.info()"
   ]
  },
  {
   "cell_type": "code",
   "execution_count": 68,
   "id": "6b6b3fb3-e1c8-451a-826b-6c62ba46608b",
   "metadata": {},
   "outputs": [],
   "source": [
    "eda_train = train.copy()"
   ]
  },
  {
   "cell_type": "code",
   "execution_count": 69,
   "id": "e77d5beb-4f0d-45f8-bb82-8c1cafd2ed67",
   "metadata": {},
   "outputs": [],
   "source": [
    "Answers = []\n",
    "for A in eda_train.columns :\n",
    "    if 'Q' and 'A' in A:\n",
    "        Answers.append(A)"
   ]
  },
  {
   "cell_type": "code",
   "execution_count": 70,
   "id": "3d6f420c-aefe-460f-9b23-5ad07b460606",
   "metadata": {},
   "outputs": [
    {
     "data": {
      "text/plain": [
       "<AxesSubplot:>"
      ]
     },
     "execution_count": 70,
     "metadata": {},
     "output_type": "execute_result"
    },
    {
     "data": {
      "image/png": "[encoded data removed]",
      "text/plain": [
       "<Figure size 432x288 with 2 Axes>"
      ]
     },
     "metadata": {
      "needs_background": "light"
     },
     "output_type": "display_data"
    }
   ],
   "source": [
    "correlations = eda_train[Answers].corr(method='spearman')\n",
    "sns.heatmap(correlations, cmap='coolwarm', square=True, center=0)"
   ]
  },
  {
   "cell_type": "code",
   "execution_count": 71,
   "id": "310ac353-1486-42c5-bc47-0eef29ad174d",
   "metadata": {
    "tags": []
   },
   "outputs": [
    {
     "name": "stdout",
     "output_type": "stream",
     "text": [
      "[1.0, 2.0, 3.0, 4.0, 5.0]\n",
      "[1.0, 2.0, 3.0, 4.0, 5.0]\n",
      "[1.0, 2.0, 3.0, 4.0, 5.0]\n",
      "[1.0, 2.0, 3.0, 4.0, 5.0]\n",
      "[1.0, 2.0, 3.0, 4.0, 5.0]\n",
      "[1.0, 2.0, 3.0, 4.0, 5.0]\n",
      "[1.0, 2.0, 3.0, 4.0, 5.0]\n",
      "[1.0, 2.0, 3.0, 4.0, 5.0]\n",
      "[1.0, 2.0, 3.0, 4.0, 5.0]\n",
      "[1.0, 2.0, 3.0, 4.0, 5.0]\n",
      "[1.0, 2.0, 3.0, 4.0, 5.0]\n",
      "[1.0, 2.0, 3.0, 4.0, 5.0]\n",
      "[1.0, 2.0, 3.0, 4.0, 5.0]\n",
      "[1.0, 2.0, 3.0, 4.0, 5.0]\n",
      "[1.0, 2.0, 3.0, 4.0, 5.0]\n",
      "[1.0, 2.0, 3.0, 4.0, 5.0]\n",
      "[1.0, 2.0, 3.0, 4.0, 5.0]\n",
      "[1.0, 2.0, 3.0, 4.0, 5.0]\n",
      "[1.0, 2.0, 3.0, 4.0, 5.0]\n",
      "[1.0, 2.0, 3.0, 4.0, 5.0]\n"
     ]
    }
   ],
   "source": [
    "for col in eda_train[Answers]:\n",
    "    print(sorted(eda_train[col].unique()))"
   ]
  },
  {
   "cell_type": "code",
   "execution_count": 72,
   "id": "8ef88057-fee4-47b6-ac0f-109681a7b233",
   "metadata": {},
   "outputs": [],
   "source": [
    "flipping_columns = [\"QeA\", \"QfA\", \"QkA\", \"QqA\", \"QrA\"]\n",
    "for flip in flipping_columns:\n",
    "    train[flip] = 6 - eda_train[flip]"
   ]
  },
  {
   "cell_type": "code",
   "execution_count": 73,
   "id": "90018a26-0df0-4db0-a05c-b3c1226e1199",
   "metadata": {},
   "outputs": [
    {
     "data": {
      "text/plain": [
       "<AxesSubplot:>"
      ]
     },
     "execution_count": 73,
     "metadata": {},
     "output_type": "execute_result"
    },
    {
     "data": {
      "image/png": "[encoded data removed]",
      "text/plain": [
       "<Figure size 432x288 with 2 Axes>"
      ]
     },
     "metadata": {
      "needs_background": "light"
     },
     "output_type": "display_data"
    }
   ],
   "source": [
    "correlations = eda_train[Answers].corr(method='spearman')\n",
    "sns.heatmap(correlations, cmap='coolwarm', square=True, center=0)"
   ]
  },
  {
   "cell_type": "code",
   "execution_count": 77,
   "id": "6b0a8afd-7cc9-4c0a-ac3a-2482a1677c21",
   "metadata": {},
   "outputs": [],
   "source": [
    "questions = [i for i in list(ascii_lowercase)[:20]]\n",
    "eda_train['delay'] = eda_train[[('Q'+i+'E') for i in questions]].sum(axis=1)"
   ]
  },
  {
   "cell_type": "code",
   "execution_count": 80,
   "id": "79f0d497-6f0f-43e6-a363-f2b505366549",
   "metadata": {},
   "outputs": [
    {
     "data": {
      "text/plain": [
       "index\n",
       "0        2.662087\n",
       "1        2.947932\n",
       "2        2.800390\n",
       "3        3.063104\n",
       "4        2.671078\n",
       "           ...   \n",
       "45527    2.580244\n",
       "45528    2.764092\n",
       "45529    2.757589\n",
       "45530    2.737949\n",
       "45531    2.777787\n",
       "Name: delay, Length: 45532, dtype: float64"
      ]
     },
     "execution_count": 80,
     "metadata": {},
     "output_type": "execute_result"
    }
   ],
   "source": [
    "eda_train['delay'] ** (1/10)"
   ]
  },
  {
   "cell_type": "code",
   "execution_count": 82,
   "id": "db33ba8c-ce99-405e-813e-0594810c5180",
   "metadata": {},
   "outputs": [
    {
     "name": "stderr",
     "output_type": "stream",
     "text": [
      "/Users/jeongseunghwan/opt/anaconda3/envs/boost/lib/python3.8/site-packages/seaborn/distributions.py:2619: FutureWarning: `distplot` is a deprecated function and will be removed in a future version. Please adapt your code to use either `displot` (a figure-level function with similar flexibility) or `histplot` (an axes-level function for histograms).\n",
      "  warnings.warn(msg, FutureWarning)\n",
      "/Users/jeongseunghwan/opt/anaconda3/envs/boost/lib/python3.8/site-packages/seaborn/distributions.py:2103: FutureWarning: The `axis` variable is no longer used and will be removed. Instead, assign variables directly to `x` or `y`.\n",
      "  warnings.warn(msg, FutureWarning)\n"
     ]
    },
    {
     "data": {
      "text/plain": [
       "<AxesSubplot:xlabel='delay', ylabel='Density'>"
      ]
     },
     "execution_count": 82,
     "metadata": {},
     "output_type": "execute_result"
    },
    {
     "data": {
      "image/png": "[encoded data removed]",
      "text/plain": [
       "<Figure size 432x288 with 1 Axes>"
      ]
     },
     "metadata": {
      "needs_background": "light"
     },
     "output_type": "display_data"
    }
   ],
   "source": [
    "eda_train['delay'] = eda_train['delay'] ** (1/10)\n",
    "sns.distplot(eda_train['delay'], rug=True)"
   ]
  },
  {
   "cell_type": "code",
   "execution_count": 83,
   "id": "b7dae38d-0876-4371-8669-5f6a3999ae6e",
   "metadata": {},
   "outputs": [],
   "source": [
    "voted = eda_train[eda_train['voted']==1]\n",
    "unvoted = eda_train[eda_train['voted']==2]"
   ]
  },
  {
   "cell_type": "code",
   "execution_count": 84,
   "id": "21015738-2750-476e-8a54-ef943b8434b0",
   "metadata": {},
   "outputs": [
    {
     "data": {
      "text/plain": [
       "<AxesSubplot:xlabel='age_group', ylabel='count'>"
      ]
     },
     "execution_count": 84,
     "metadata": {},
     "output_type": "execute_result"
    },
    {
     "data": {
      "image/png": "[encoded data removed]",
      "text/plain": [
       "<Figure size 576x432 with 1 Axes>"
      ]
     },
     "metadata": {
      "needs_background": "light"
     },
     "output_type": "display_data"
    }
   ],
   "source": [
    "plt.figure(figsize=(8,6))\n",
    "sns.countplot(data = eda_train, x = 'age_group', hue = eda_train['voted'])"
   ]
  },
  {
   "cell_type": "code",
   "execution_count": 85,
   "id": "31cf233d-c207-4319-8f82-74b35173f6a5",
   "metadata": {},
   "outputs": [
    {
     "data": {
      "text/plain": [
       "<AxesSubplot:xlabel='married', ylabel='count'>"
      ]
     },
     "execution_count": 85,
     "metadata": {},
     "output_type": "execute_result"
    },
    {
     "data": {
      "image/png": "[encoded data removed]",
      "text/plain": [
       "<Figure size 576x432 with 1 Axes>"
      ]
     },
     "metadata": {
      "needs_background": "light"
     },
     "output_type": "display_data"
    }
   ],
   "source": [
    "plt.figure(figsize=(8,6))\n",
    "sns.countplot(data=eda_train, x='married', hue=eda_train['voted'])"
   ]
  },
  {
   "cell_type": "code",
   "execution_count": 99,
   "id": "70858b50-45d5-4bd5-b4ef-e2159df85f6b",
   "metadata": {
    "tags": []
   },
   "outputs": [],
   "source": [
    "X_train = train.copy()\n",
    "X_train.drop('voted', axis=1, inplace=True)\n",
    "y_train = train['voted']"
   ]
  },
  {
   "cell_type": "code",
   "execution_count": 103,
   "id": "8c3b323a-0727-4d59-ab0d-13de387fd43a",
   "metadata": {},
   "outputs": [],
   "source": [
    "dataset = [X_train, test]"
   ]
  },
  {
   "cell_type": "code",
   "execution_count": 104,
   "id": "2cd24ae3-dfb4-4b56-8f60-b0925fd5152e",
   "metadata": {},
   "outputs": [],
   "source": [
    "questions = [i for i in list(ascii_lowercase)[:20]]\n",
    "answers = [('Q'+i+'A')for i in questions]"
   ]
  },
  {
   "cell_type": "code",
   "execution_count": 105,
   "id": "7fa59485-8ab3-4480-a962-3484a1bc5ae0",
   "metadata": {},
   "outputs": [],
   "source": [
    "for data in dataset:\n",
    "    data['T'] = data['QcA'] - data['QfA'] + data['QoA'] - data['QrA'] + data['QsA']\n",
    "    data['V'] = data['QbA'] - data['QeA'] + data['QhA'] + data['QjA'] + data['QmA'] - data['QqA']\n",
    "    data['M'] = -data['QkA']"
   ]
  },
  {
   "cell_type": "code",
   "execution_count": 106,
   "id": "70f6d5a1-a875-4837-9a7e-cf6966d1c8bb",
   "metadata": {},
   "outputs": [],
   "source": [
    "flipping_columns = ['QeA', 'QfA', 'QkA', 'QqA', 'QrA']\n",
    "for data in dataset:\n",
    "    for flip in flipping_columns:\n",
    "        data[flip] = 6 - data[flip]"
   ]
  },
  {
   "cell_type": "code",
   "execution_count": 109,
   "id": "0579ae24-d9c4-4b65-9212-2d9bd207ddfc",
   "metadata": {},
   "outputs": [],
   "source": [
    "flipping_secret_columns = ['QaA', 'QdA', 'QgA', 'QiA', 'QnA']\n",
    "for data in dataset:\n",
    "    for flip in flipping_secret_columns:\n",
    "        data[flip] = 6 - data[flip]"
   ]
  },
  {
   "cell_type": "code",
   "execution_count": 110,
   "id": "2e9ceff3-d5b6-4651-95a4-d66da00d3871",
   "metadata": {},
   "outputs": [],
   "source": [
    "for data in dataset:\n",
    "    data['Mach_score'] = data[answers].mean(axis=1)"
   ]
  },
  {
   "cell_type": "code",
   "execution_count": 111,
   "id": "29b52d51-c016-446a-9514-20e6eb61ed9f",
   "metadata": {},
   "outputs": [],
   "source": [
    "for data in dataset :\n",
    "    data['delay'] = data[[('Q'+i+'E') for i in questions]].sum(axis=1)\n",
    "    data['delay'] = data['delay'] ** (1/10)"
   ]
  },
  {
   "cell_type": "code",
   "execution_count": 115,
   "id": "fe6c8cd7-935a-4bc3-9b68-e4b7831cd728",
   "metadata": {},
   "outputs": [
    {
     "name": "stderr",
     "output_type": "stream",
     "text": [
      "/var/folders/3k/05vd5sp53wbgspztyxv0ksfm0000gn/T/ipykernel_96967/1047327867.py:4: PerformanceWarning: DataFrame is highly fragmented.  This is usually the result of calling `frame.insert` many times, which has poor performance.  Consider joining all columns at once using pd.concat(axis=1) instead.  To get a de-fragmented frame, use `newframe = frame.copy()`\n",
      "  data['%s_dv_%s'%(a,b)] = data[a]/data[b]\n"
     ]
    }
   ],
   "source": [
    "Ancoms = list(combinations(answers, 2))\n",
    "for data in dataset:\n",
    "    for a,b in Ancoms:\n",
    "        data['%s_dv_%s'%(a,b)] = data[a]/data[b]"
   ]
  },
  {
   "cell_type": "code",
   "execution_count": 117,
   "id": "363db7a7-9017-482e-a56f-2199cdc540b0",
   "metadata": {},
   "outputs": [],
   "source": [
    "for data in dataset:\n",
    "    data.drop('hand', axis=1, inplace=True)"
   ]
  },
  {
   "cell_type": "code",
   "execution_count": 119,
   "id": "3b0b12cd-6441-485e-99d3-54a8237f2d2d",
   "metadata": {},
   "outputs": [],
   "source": [
    "wr_list = [('wr_0'+str(i)) for i in range(1,10)]\n",
    "wr_list.extend(['wr_'+str(i) for i in range(10, 14)])\n",
    "wr_no_need = [i for i in wr_list if i not in ['wr_01', 'wr_03', 'wr_06', 'wr_09', 'wr_11']]"
   ]
  },
  {
   "cell_type": "code",
   "execution_count": 120,
   "id": "0f3659a4-3394-4dff-86c9-33b2f66f4129",
   "metadata": {},
   "outputs": [],
   "source": [
    "for data in dataset:\n",
    "    data.drop(wr_no_need, axis=1, inplace=True)"
   ]
  },
  {
   "cell_type": "code",
   "execution_count": 121,
   "id": "aaf10a30-002b-4a6d-8780-4d129319e531",
   "metadata": {},
   "outputs": [],
   "source": [
    "for data in dataset:\n",
    "    data['Ex'] = data['tp01']-data['tp06']\n",
    "    data['Ag'] = data['tp07']-data['tp02']\n",
    "    data['Con'] = data['tp03']-data['tp08']\n",
    "    data['Es'] = data['tp09']-data['tp04']\n",
    "    data['Op'] = data['tp05']-data['tp10']"
   ]
  },
  {
   "cell_type": "code",
   "execution_count": 125,
   "id": "ca605d92-1ec8-4a78-a3f4-8a01c9c934a2",
   "metadata": {},
   "outputs": [],
   "source": [
    "for data in dataset :\n",
    "    data.drop([('tp0'+str(i)) for i in range(1,10)], axis=1, inplace=True)\n",
    "    data.drop([('tp10')], axis=1, inplace=True)"
   ]
  },
  {
   "cell_type": "code",
   "execution_count": 132,
   "id": "84eca214-0b1f-4db7-ae8b-9c080933c585",
   "metadata": {},
   "outputs": [],
   "source": [
    "index = list(test.index)"
   ]
  },
  {
   "cell_type": "code",
   "execution_count": 136,
   "id": "d86495d5-e9b5-49b8-824d-d70e0734c28d",
   "metadata": {},
   "outputs": [],
   "source": [
    "from sklearn.preprocessing import LabelEncoder\n",
    "encoder = LabelEncoder()\n",
    "needenco = ['age_group', 'gender', 'race', 'religion']\n",
    "for i in needenco:\n",
    "    X_train[i] = encoder.fit_transform(X_train[i])\n",
    "    test[i] = encoder.transform(test[i])"
   ]
  },
  {
   "cell_type": "markdown",
   "id": "15a88bc1-9f86-4986-b11d-9434a514741e",
   "metadata": {},
   "source": [
    "## Model"
   ]
  },
  {
   "cell_type": "code",
   "execution_count": 137,
   "id": "2be68d0a-a8f1-48a4-ba7a-04412714d5c3",
   "metadata": {},
   "outputs": [],
   "source": [
    "k_fold = KFold(n_splits=3, shuffle=True, random_state=0)"
   ]
  },
  {
   "cell_type": "code",
   "execution_count": 138,
   "id": "57c5bd85-27ba-4f67-8e87-cb3ecdcd98a2",
   "metadata": {},
   "outputs": [
    {
     "data": {
      "text/plain": [
       "VotingClassifier(estimators=[('r1', RandomForestClassifier(n_estimators=500)),\n",
       "                             ('r2', LGBMClassifier()),\n",
       "                             ('r3', GradientBoostingClassifier())],\n",
       "                 voting='soft')"
      ]
     },
     "execution_count": 138,
     "metadata": {},
     "output_type": "execute_result"
    }
   ],
   "source": [
    "clf1 = RandomForestClassifier(n_estimators=500)\n",
    "clf2 = LGBMClassifier()\n",
    "clf3 = GradientBoostingClassifier()\n",
    "soft_vote = VotingClassifier([('r1', clf1), ('r2', clf2), ('r3', clf3)], voting='soft')\n",
    "soft_vote.fit(X_train, y_train)"
   ]
  },
  {
   "cell_type": "code",
   "execution_count": 140,
   "id": "b0e805a3-b980-4329-8a18-567764161cbc",
   "metadata": {},
   "outputs": [],
   "source": [
    "model = soft_vote\n",
    "\n",
    "pred_y = model.predict_proba(test)\n",
    "pred_y = pred_y[:,1]\n",
    "submission = pd.DataFrame({\n",
    "    \"index\" : index,\n",
    "    \"voted\" : pred_y\n",
    "})\n",
    "\n",
    "submission.to_csv('result/model1.csv', index=False)"
   ]
  },
  {
   "cell_type": "code",
   "execution_count": 142,
   "id": "754965d5-dc83-44cd-af3d-c81c250e40c2",
   "metadata": {},
   "outputs": [],
   "source": [
    "import pandas as pd\n",
    "import numpy as np\n",
    "\n",
    "from string import ascii_lowercase\n",
    "from itertools import combinations\n",
    "\n",
    "from sklearn.preprocessing import LabelEncoder\n",
    "from sklearn.metrics import roc_auc_score"
   ]
  },
  {
   "cell_type": "code",
   "execution_count": null,
   "id": "f11d8ed6-b282-43f2-98a4-2a662a97631c",
   "metadata": {},
   "outputs": [],
   "source": []
  }
 ],
 "metadata": {
  "kernelspec": {
   "display_name": "Python 3 (ipykernel)",
   "language": "python",
   "name": "python3"
  },
  "language_info": {
   "codemirror_mode": {
    "name": "ipython",
    "version": 3
   },
   "file_extension": ".py",
   "mimetype": "text/x-python",
   "name": "python",
   "nbconvert_exporter": "python",
   "pygments_lexer": "ipython3",
   "version": "3.8.8"
  }
 },
 "nbformat": 4,
 "nbformat_minor": 5
}
